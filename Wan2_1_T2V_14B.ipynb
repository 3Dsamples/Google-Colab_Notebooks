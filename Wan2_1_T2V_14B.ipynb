{
  "nbformat": 4,
  "nbformat_minor": 0,
  "metadata": {
    "colab": {
      "provenance": [],
      "gpuType": "A100"
    },
    "kernelspec": {
      "name": "python3",
      "display_name": "Python 3"
    },
    "language_info": {
      "name": "python"
    },
    "accelerator": "GPU"
  },
  "cells": [
    {
      "cell_type": "markdown",
      "source": [
        "**Note**: Downloading and loading the models takes 3 minutes 30 seconds to 4 minutes.\n",
        "\n",
        "For generating a 5-second video with 30 steps:\n",
        "\n",
        "-480×832 resolution\n",
        "\n",
        "- L4 GPU: ~40 minutes 10 seconds\n",
        "- A100 GPU: ~10 minutes 24 seconds (faster and potentially more cost-effective)\n",
        "\n",
        "-720×1280 resolution\n",
        "\n",
        "- A100 GPU: ~34 minutes"
      ],
      "metadata": {
        "id": "RKfyDLMBMWqc"
      }
    },
    {
      "cell_type": "markdown",
      "source": [
        "**DOWNLOAD AND LOAD LIBRARIES & MODELS**"
      ],
      "metadata": {
        "id": "O7QKd93FL2aF"
      }
    },
    {
      "cell_type": "code",
      "execution_count": null,
      "metadata": {
        "collapsed": true,
        "cellView": "form",
        "id": "fu5UnKb8JB3Z"
      },
      "outputs": [],
      "source": [
        "# @title\n",
        "!git clone https://github.com/Isi-dev/DiffSynth-Studio.git\n",
        "%cd DiffSynth-Studio\n",
        "!pip install -e .\n",
        "!pip install \"huggingface_hub[cli]\"\n",
        "!apt-get install -y aria2\n",
        "import os\n",
        "from huggingface_hub import list_repo_files\n",
        "\n",
        "repo_id = \"Isi99999/Wan2.1-T2V-14B\"\n",
        "# repo_id = \"Wan-AI/Wan2.1-T2V-14B\"\n",
        "all_files = list_repo_files(repo_id)\n",
        "base_url = f\"https://huggingface.co/{repo_id}/resolve/main/\"\n",
        "\n",
        "with open(\"file_list.txt\", \"w\") as f:\n",
        "    for file_path in all_files:\n",
        "        full_url = f\"{base_url}{file_path}\"\n",
        "        save_path = f\"models/Wan-AI/Wan2.1-T2V-14B/{file_path}\"\n",
        "        os.makedirs(os.path.dirname(save_path), exist_ok=True)\n",
        "        f.write(f\"{full_url}\\n out={save_path}\\n\")\n",
        "!aria2c -x 16 -s 16 -i file_list.txt --continue=true --auto-file-renaming=false\n",
        "\n",
        "print(\"✅ All models downloaded successfully!\")\n",
        "\n",
        "import torch\n",
        "from diffsynth import ModelManager, WanVideoPipeline\n",
        "\n",
        "# Initialize model manager and load the model\n",
        "model_manager = ModelManager(device=\"cpu\")\n",
        "model_manager.load_models(\n",
        "    [\n",
        "        \"models/Wan-AI/Wan2.1-T2V-14B/diffusion_pytorch_model.safetensors\",\n",
        "        \"models/Wan-AI/Wan2.1-T2V-14B/models_t5_umt5-xxl-enc-bf16.safetensors\",\n",
        "        \"models/Wan-AI/Wan2.1-T2V-14B/Wan2.1_VAE.pth\",\n",
        "    ],\n",
        "    torch_dtype=torch.float8_e4m3fn  # You can set `torch.float8_e4m3fn` or `torch_dtype=torch.bfloat16` to disable FP8 quantization.\n",
        ")\n",
        "\n",
        "# Initialize the video pipeline\n",
        "pipe = WanVideoPipeline.from_model_manager(model_manager, torch_dtype=torch.bfloat16, device=\"cuda\")\n",
        "pipe.enable_vram_management(num_persistent_param_in_dit=None)\n",
        "print(\"✅ All models loaded successfully!\")\n",
        "from diffsynth import save_video\n",
        "from diffsynth import VideoData"
      ]
    },
    {
      "cell_type": "markdown",
      "source": [
        "**RUN TEXT TO VIDEO**"
      ],
      "metadata": {
        "id": "gjGfMPZWMC_s"
      }
    },
    {
      "cell_type": "code",
      "source": [
        "\n",
        "\n",
        "prompt = \"A highly detailed, realistic AI-generated portrait of a very beautiful female soldier representing China. She has long hair, a confident and friendly smile, and striking facial features. She is wearing a camouflage military uniform with an open front, revealing her huge cleavage. She holds a modern assault rifle in a relaxed yet ready position. She walks towards the camera as the camera moves back to track her movements.The background shows a slightly blurred battlefield with other soldiers in formation, creating a sense of military action. The Chinese flag is displayed on her uniform on her shoulder. The lighting is natural, with a warm and slightly cinematic tone. The image should have a sharp focus on her face and outfit while maintaining a professional military aesthetic.\" # @param {type:\"string\"}\n",
        "sample_steps = 30 # @param {\"type\":\"number\"}\n",
        "Instruction = \"choose from '720*1280', '1280*720', '480*832', '832*480', '1024*1024 for Width & Height\" # @param {\"type\":\"string\"}\n",
        "width = 480 # @param {\"type\":\"number\"}\n",
        "height = 832 # @param {\"type\":\"number\"}\n",
        "# num_frames = 1 # @param {\"type\":\"number\"}\n",
        "seed = 1 # @param {\"type\":\"number\"}\n",
        "\n",
        "# Generate video from text prompt\n",
        "video = pipe(\n",
        "    prompt=prompt,\n",
        "    negative_prompt=\"色调艳丽，过曝，静态，细节模糊不清，字幕，风格，作品，画作，画面，静止，整体发灰，最差质量，低质量，JPEG压缩残留，丑陋的，残缺的，多余的手指，画得不好的手部，画得不好的脸部，畸形的，毁容的，形态畸形的肢体，手指融合，静止不动的画面，杂乱的背景，三条腿，背景人很多，倒着走\",\n",
        "    height = height,\n",
        "    width = width,\n",
        "    num_frames=81,\n",
        "    num_inference_steps=sample_steps,\n",
        "    seed=seed, tiled=True\n",
        ")\n",
        "\n",
        "# # Save the generated video\n",
        "save_video(video, \"video1.mp4\", fps=15, quality=5)\n",
        "\n",
        "from IPython.display import display as displayVid, Video as outVid\n",
        "import os\n",
        "\n",
        "# Function to display video\n",
        "def show_video(video_path):\n",
        "    if os.path.exists(video_path):\n",
        "        displayVid(outVid(video_path, embed=True))\n",
        "    else:\n",
        "        print(f\"Error: {video_path} not found!\")\n",
        "\n",
        "# Show the video\n",
        "show_video(\"video1.mp4\")\n"
      ],
      "metadata": {
        "cellView": "form",
        "collapsed": true,
        "id": "JqWO3tpMKvXv"
      },
      "execution_count": null,
      "outputs": []
    },
    {
      "cell_type": "markdown",
      "source": [
        "**RUN TEXT TO IMAGE**"
      ],
      "metadata": {
        "id": "kAmUnHI3Zzaz"
      }
    },
    {
      "cell_type": "code",
      "source": [
        "\n",
        "\n",
        "prompt = \"A highly detailed, realistic AI-generated portrait of a very beautiful female soldier representing Canada. She has long hair, a confident and friendly smile, and striking facial features. She is wearing a camouflage military uniform with an open front, revealing her huge cleavage. She holds a modern assault rifle in a relaxed yet ready position. The background shows a slightly blurred battlefield with other soldiers in formation, creating a sense of military action. The Canadian flag is displayed on her uniform on her shoulder. The lighting is natural, with a warm and slightly cinematic tone. The image should have a sharp focus on her face and outfit while maintaining a professional military aesthetic.\" # @param {type:\"string\"}\n",
        "sample_steps = 30 # @param {\"type\":\"number\"}\n",
        "Instruction = \"choose from '720*1280', '1280*720', '480*832', '832*480', '1024*1024 for Width & Height\" # @param {\"type\":\"string\"}\n",
        "width = 720 # @param {\"type\":\"number\"}\n",
        "height = 1280 # @param {\"type\":\"number\"}\n",
        "seed = 1 # @param {\"type\":\"number\"}\n",
        "displayWidth = 480 # @param {\"type\":\"number\"}\n",
        "\n",
        "# Generate video from text prompt\n",
        "video = pipe(\n",
        "    prompt=prompt,\n",
        "    negative_prompt=\"色调艳丽，过曝，静态，细节模糊不清，字幕，风格，作品，画作，画面，静止，整体发灰，最差质量，低质量，JPEG压缩残留，丑陋的，残缺的，多余的手指，画得不好的手部，画得不好的脸部，畸形的，毁容的，形态畸形的肢体，手指融合，静止不动的画面，杂乱的背景，三条腿，背景人很多，倒着走\",\n",
        "    height = height,\n",
        "    width = width,\n",
        "    num_frames=1,\n",
        "    num_inference_steps=sample_steps,\n",
        "    seed=seed, tiled=True\n",
        ")\n",
        "\n",
        "\n",
        "# Save the generated video\n",
        "save_video(video, \"video2.mp4\", fps=15, quality=5)\n",
        "\n",
        "import cv2\n",
        "import os\n",
        "from IPython.display import display as displayVid, Image as outImg\n",
        "\n",
        "def show_image(video_path, display_width=480):\n",
        "    if not os.path.exists(video_path):\n",
        "        print(f\"Error: {video_path} not found!\")\n",
        "        return\n",
        "\n",
        "    cap = cv2.VideoCapture(video_path)\n",
        "    success, frame = cap.read()\n",
        "    cap.release()\n",
        "\n",
        "    if success:\n",
        "        image_path = \"single_frame.png\"\n",
        "        cv2.imwrite(image_path, frame)\n",
        "        displayVid(outImg(image_path, width=display_width))\n",
        "    else:\n",
        "        print(\"Error: Could not read the frame.\")\n",
        "\n",
        "show_image(\"video2.mp4\", display_width=displayWidth)\n"
      ],
      "metadata": {
        "cellView": "form",
        "id": "i7-Pg-CuZ2er"
      },
      "execution_count": null,
      "outputs": []
    }
  ]
}