{
  "nbformat": 4,
  "nbformat_minor": 0,
  "metadata": {
    "colab": {
      "provenance": [],
      "gpuType": "T4"
    },
    "kernelspec": {
      "name": "python3",
      "display_name": "Python 3"
    },
    "language_info": {
      "name": "python"
    },
    "accelerator": "GPU"
  },
  "cells": [
    {
      "cell_type": "markdown",
      "source": [
        "\n",
        "\n",
        "**SETUP ENVIRONMENT**\n"
      ],
      "metadata": {
        "id": "YCtg1bUxGXeB"
      }
    },
    {
      "cell_type": "code",
      "execution_count": null,
      "metadata": {
        "id": "CVRBIyZ7gVso",
        "cellView": "form"
      },
      "outputs": [],
      "source": [
        "# @title\n",
        "!git clone https://github.com/Isi-dev/Practical-RIFE\n",
        "%cd /content/Practical-RIFE\n",
        "!pip install git+https://github.com/rk-exxec/scikit-video.git@numpy_deprecation\n",
        "!mkdir -p /content/Practical-RIFE/train_log\n",
        "!wget -q https://huggingface.co/Isi99999/Frame_Interpolation_Models/resolve/main/4.25/train_log/IFNet_HDv3.py -O /content/Practical-RIFE/train_log/IFNet_HDv3.py\n",
        "!wget -q https://huggingface.co/Isi99999/Frame_Interpolation_Models/resolve/main/4.25/train_log/RIFE_HDv3.py -O /content/Practical-RIFE/train_log/RIFE_HDv3.py\n",
        "!wget -q https://huggingface.co/Isi99999/Frame_Interpolation_Models/resolve/main/4.25/train_log/refine.py -O /content/Practical-RIFE/train_log/refine.py\n",
        "!wget -q https://huggingface.co/Isi99999/Frame_Interpolation_Models/resolve/main/4.25/train_log/flownet.pkl -O /content/Practical-RIFE/train_log/flownet.pkl\n",
        "!echo \"✅ All setup steps completed successfully!\"\n"
      ]
    },
    {
      "cell_type": "markdown",
      "source": [
        "**IMAGE INTERPOLATION to GIF**"
      ],
      "metadata": {
        "id": "8upil1YGGlLn"
      }
    },
    {
      "cell_type": "markdown",
      "source": [
        "Run and Upload Two Images. Make sure both images have the same alpha channel profile. If one image is RGB and the other is RGBA, the interpolation will fail. The number of frames in the output gif file = 2 exponential(EXP). FPS is the number of Frames Per Second displayed by the output gif file."
      ],
      "metadata": {
        "id": "81GMlI0pGqHG"
      }
    },
    {
      "cell_type": "code",
      "source": [
        "# @title\n",
        "EXP = 4 # @param {\"type\":\"number\"}\n",
        "FPS = 10 # @param {\"type\":\"number\"}\n",
        "\n",
        "\n",
        "from google.colab import files\n",
        "import os\n",
        "import shutil\n",
        "# Delete the existing output folder if it exists\n",
        "output_dir = \"/content/Practical-RIFE/output\"\n",
        "if os.path.exists(output_dir):\n",
        "    shutil.rmtree(output_dir)\n",
        "from PIL import Image\n",
        "uploaded = files.upload()\n",
        "target_dir = \"/content/Practical-RIFE\"\n",
        "os.makedirs(target_dir, exist_ok=True)\n",
        "\n",
        "image_paths = []\n",
        "for i, (filename, file_data) in enumerate(uploaded.items()):\n",
        "    ext = os.path.splitext(filename)[1].lower()\n",
        "    image_path = os.path.join(target_dir, f\"{i}{ext}\")\n",
        "\n",
        "    with open(image_path, \"wb\") as f:\n",
        "        f.write(file_data)\n",
        "\n",
        "    image_paths.append(image_path)\n",
        "\n",
        "image_0 = image_paths[0] if len(image_paths) > 0 else None\n",
        "image_1 = image_paths[1] if len(image_paths) > 1 else None\n",
        "\n",
        "if image_0 is not None and image_1 is not None:\n",
        "    with Image.open(image_0) as img:\n",
        "        width, height = img.size\n",
        "    !python3 inference_img.py --img {image_0} {image_1} --exp {EXP}\n",
        "    !ffmpeg -r {FPS} -f image2 -i output/img%d.png -s {width}x{height} -vf \"split[s0][s1];[s0]palettegen=stats_mode=single[p];[s1][p]paletteuse=new=1\" output/slomo.gif -loglevel error -y\n",
        "    from IPython.display import display, Image\n",
        "    display(Image(filename=\"output/slomo.gif\"))\n",
        "else:\n",
        "    print(\"You need to select two images!\")"
      ],
      "metadata": {
        "cellView": "form",
        "id": "Q667ddsZGonP"
      },
      "execution_count": null,
      "outputs": []
    },
    {
      "cell_type": "markdown",
      "source": [
        "**IMAGE INTERPOLATION to VIDEO**"
      ],
      "metadata": {
        "id": "lZ896eaQaGXt"
      }
    },
    {
      "cell_type": "markdown",
      "source": [
        "Run and Upload Two Images. Make sure both images have the same alpha channel profile. If one image is RGB and the other is RGBA, the interpolation will fail. The number of frames in the output Video = 2 exponential(EXP). FPS is the number of Frames Per Second of the output video."
      ],
      "metadata": {
        "id": "XsBCbd6-naMN"
      }
    },
    {
      "cell_type": "code",
      "source": [
        "# @title\n",
        "EXP = 4 # @param {\"type\":\"number\"}\n",
        "FPS = 30 # @param {\"type\":\"number\"}\n",
        "\n",
        "\n",
        "from google.colab import files\n",
        "import os\n",
        "import shutil\n",
        "# Delete the existing output folder if it exists\n",
        "output_dir = \"/content/Practical-RIFE/output\"\n",
        "if os.path.exists(output_dir):\n",
        "    shutil.rmtree(output_dir)\n",
        "from PIL import Image\n",
        "uploaded = files.upload()\n",
        "target_dir = \"/content/Practical-RIFE\"\n",
        "os.makedirs(target_dir, exist_ok=True)\n",
        "\n",
        "image_paths = []\n",
        "for i, (filename, file_data) in enumerate(uploaded.items()):\n",
        "    ext = os.path.splitext(filename)[1].lower()\n",
        "    image_path = os.path.join(target_dir, f\"{i}{ext}\")\n",
        "\n",
        "    with open(image_path, \"wb\") as f:\n",
        "        f.write(file_data)\n",
        "\n",
        "    image_paths.append(image_path)\n",
        "\n",
        "image_0 = image_paths[0] if len(image_paths) > 0 else None\n",
        "image_1 = image_paths[1] if len(image_paths) > 1 else None\n",
        "\n",
        "if image_0 is not None and image_1 is not None:\n",
        "    with Image.open(image_0) as img:\n",
        "        width, height = img.size\n",
        "    !python3 inference_img.py --img {image_0} {image_1} --exp {EXP}\n",
        "    !ffmpeg -r {FPS} -f image2 -i output/img%d.png -s {width}x{height} -vcodec libx264 -crf 23 -preset fast -pix_fmt yuv420p output/vid_from_images.mp4 -loglevel error -y\n",
        "    from IPython.display import display as displayVid, Video as outVid\n",
        "    displayVid(outVid(\"output/vid_from_images.mp4\", embed=True))\n",
        "else:\n",
        "    print(\"You need to select two images!\")"
      ],
      "metadata": {
        "cellView": "form",
        "id": "9d_6DEs-aMDI"
      },
      "execution_count": null,
      "outputs": []
    },
    {
      "cell_type": "markdown",
      "source": [
        "**VIDEO INTERPOLATION**"
      ],
      "metadata": {
        "id": "Ed2JbLwIMoYI"
      }
    },
    {
      "cell_type": "markdown",
      "source": [
        "- Run and Upload your Video. If your video has 30 frames, then a **FRAME_MULTIPLIER** of 2 will double the number of frames to 60. If the video is 15fps, then using the default **FPS** (30) will give you a smoother output video at 30fps.The duration will remain the same. Increasing the **FPS** will reduce the duration of the video, resulting in a speedup effect. Reducing the **FPS**  will increase the duration, resulting in a slow motion effect.\n",
        "- The **SCALE** parameter should be set to 0.5 for 4k videos (according to the authors of the Model).\n",
        "- Enabling **INCLUDE_AUDIO** will include the audio (from the input video) in the output video and the **FPS** parameter will not be used. The **FRAME_MULTIPLIER** will determine the fps of the output video with a value of 3 turning a 10fps video to a 30fps video with no change in video duration."
      ],
      "metadata": {
        "id": "erVrRUA6MyOZ"
      }
    },
    {
      "cell_type": "code",
      "source": [
        "# @title\n",
        "FRAME_MULTIPLIER = 2 # @param {\"type\":\"number\"}\n",
        "FPS = 30 # @param {\"type\":\"number\"}\n",
        "SCALE = 1 # @param {\"type\":\"number\"}\n",
        "INCLUDE_AUDIO = False # @param {\"type\":\"boolean\"}\n",
        "from google.colab import files\n",
        "import os\n",
        "import glob\n",
        "from IPython.display import display as displayVid, Video as outVid\n",
        "\n",
        "uploaded = files.upload()\n",
        "\n",
        "# Define target directory\n",
        "target_dir = \"/content/Practical-RIFE\"\n",
        "os.makedirs(target_dir, exist_ok=True)\n",
        "\n",
        "video_path = None\n",
        "for filename, file_data in uploaded.items():\n",
        "    ext = os.path.splitext(filename)[1].lower()\n",
        "    if ext in [\".mp4\", \".avi\", \".mov\", \".mkv\"]:  # Ensure it's a valid video format\n",
        "        video_path = os.path.join(target_dir, f\"uploaded_video{ext}\")\n",
        "        with open(video_path, \"wb\") as f:\n",
        "            f.write(file_data)\n",
        "        break\n",
        "\n",
        "# Suppress ALSA errors\n",
        "os.environ[\"XDG_RUNTIME_DIR\"] = \"/tmp\"\n",
        "os.environ[\"SDL_AUDIODRIVER\"] = \"dummy\"\n",
        "\n",
        "# Disable warnings from ffmpeg about missing audio\n",
        "os.environ[\"PYGAME_HIDE_SUPPORT_PROMPT\"] = \"1\"\n",
        "os.environ[\"FFMPEG_LOGLEVEL\"] = \"quiet\"\n",
        "\n",
        "if INCLUDE_AUDIO:\n",
        "    !python3 inference_video.py --multi={FRAME_MULTIPLIER} --video={video_path} --scale={SCALE}\n",
        "else:\n",
        "    !python3 inference_video.py --multi={FRAME_MULTIPLIER} --fps={FPS} --video={video_path} --scale={SCALE}\n",
        "\n",
        "\n",
        "video_folder = \"/content/Practical-RIFE/\"\n",
        "\n",
        "# Find the latest MP4 file\n",
        "video_files = glob.glob(os.path.join(video_folder, \"*.mp4\"))\n",
        "\n",
        "if video_files:\n",
        "    latest_video = max(video_files, key=os.path.getctime)\n",
        "    !ffmpeg -i \"{latest_video}\" -vcodec libx264 -crf 23 -preset fast output_converted.mp4 -loglevel error -y\n",
        "\n",
        "    print(f\"Displaying video: {latest_video}\")\n",
        "    displayVid(outVid(\"output_converted.mp4\", embed=True))\n",
        "    # displayVid(outVid(latest_video, embed=True))\n",
        "else:\n",
        "    print(\"❌ No video found in output/\")\n",
        "\n"
      ],
      "metadata": {
        "cellView": "form",
        "id": "L_4Hi6cFMsMG"
      },
      "execution_count": null,
      "outputs": []
    }
  ]
}